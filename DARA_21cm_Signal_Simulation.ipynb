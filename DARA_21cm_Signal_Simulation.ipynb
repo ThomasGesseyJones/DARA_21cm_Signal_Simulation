{
  "cells": [
    {
      "cell_type": "markdown",
      "metadata": {
        "id": "view-in-github",
        "colab_type": "text"
      },
      "source": [
        "<a href=\"https://colab.research.google.com/github/ThomasGesseyJones/DARA_21cm_Signal_Simulation/blob/development/DARA_21cm_Signal_Simulation.ipynb\" target=\"_parent\"><img src=\"https://colab.research.google.com/assets/colab-badge.svg\" alt=\"Open In Colab\"/></a>"
      ]
    },
    {
      "cell_type": "markdown",
      "metadata": {
        "id": "t8G4vc1J4hzc"
      },
      "source": [
        "# DARA 21-cm Signal Simulation\n",
        "\n",
        "\n",
        "In this notebook, we'll create a simple simulation of the 21-cm signal together. We shall implement the key physics we learnt in the theory lectures earlier and produce our own predictions for what the 21-cm global signal and power spectrum may look like.\n",
        "\n",
        "If you haven't already found it this notebook is hosted on GitHub at\n",
        "[https://github.com/ThomasGesseyJones/DARA_21cm_Signal_Simulation](https://github.com/ThomasGesseyJones/DARA_21cm_Signal_Simulation)\n",
        "\n",
        "In the repository, there is also a short README.md (and a setup pdf) on how to get your own copy of this notebook on your google account so you can follow along and experiment!"
      ]
    },
    {
      "cell_type": "markdown",
      "source": [
        "## A Quick Introduction to Google Colab/Jupyter Notebooks\n",
        "\n",
        "TOOD"
      ],
      "metadata": {
        "id": "82pGI1_squkE"
      }
    },
    {
      "cell_type": "markdown",
      "metadata": {
        "id": "86Yxw-VN6rao"
      },
      "source": [
        "## Types of 21-cm Signal Simulation\n",
        "\n",
        "Before we start we need to decide what type of 21-cm signal simulation we are going to create. Broadly speaking we can split 21-cm signal simulations into three categories:\n",
        "- Analytic\n",
        "- Numeric \n",
        "- Semi-numerical \n",
        "\n",
        "**Analytic** simulations (e.g. TODO) typically operate by solving the differential equations that describe the 21-cm signal's evolution under the assumption of a homogeneous universe. So they treat the 21-cm signal $T_{\\rm 21}$ at a given redshift $z$ and all things it depends upon, such as the kinetic temperature $T_{\\rm K}$ and electron fraction $x_{\\rm e}$, as having the same value throughout the entire universe. This has the advantage that for each of these quantities at each redshift step you only need to store one number, so it requires very little memory. In addition, because radiative transfer does not need to be modelled solving the differential equations is computationally easy, leading to very quick codes. In reality, of course, the 21-cm signal is not uniform. Assuming so means you cannot make predictions for the 21-cm power spectrum, and your predictions of the global 21-cm signal are potentially biased. Hence, analytic simulations are great for theoretic studies but are not always accurate enough for your purpose.\n",
        "\n",
        "**Numeric** simulations (e.g. TODO) are the opposite extreme. They use particle hydrodynamics codes to model the evolution of large portions of the universe. Physics modelled in these simulations often includes dark matter and baryons collapsing into halos under gravity, chemical and thermal evolution of the gas, star formation, and radiative transfer. As star formation occurs on much smaller scales (parsecs) than the cosmological volumes of interest (Megaparsecs or Gigaparsecs) these simulations require billions of particles to get sufficient resolution. Consequently, they are hugely computationally expensive. For example, the [CoDa II](https://arxiv.org/abs/1811.11192) simulations ran on the Titan supercomputer using 16384 GPUs and 65536 cores. This means the number of such simulations that can be done is limited, though they do provide the most accurate simulations we can achieve. \n",
        "\n",
        "**Semi-numerical** simulations (e.g. TODO) are somewhat of a compromise between the previous two methods. They aim to be physically realistic enough to produce accurate predictions of the 21-cm signal, including its spatial variations, but fast and low-memory enough to be run on a commercially available desktop computer. This is typically achieved by splitting the cosmological volume into smaller simulation cells typically each a few comoving Megaparsecs in size. The cells can have different temperatures, ionization fractions, 21-cm signals, etc... and hence allow for the variation in the 21-cm signal to be modelled. Physics below the size of the cell, e.g. star formation, is treated using analytic approximations, while large-scale physics that goes between cells, e.g. radiative transfer, is treated numerically. Hence, the name semi-numerical. \n",
        "\n",
        "Since we want accurate enough predictions in a reasonable time frame (ideally the hour length of this session) we shall develop a simple semi-numerical simulation code. "
      ]
    },
    {
      "cell_type": "markdown",
      "metadata": {
        "id": "ErY0xMleB7Oh"
      },
      "source": [
        "##Representing the Universe\n",
        "\n",
        "As mentioned above we are going to split our simulation of the universe into $N \\times N \\times N$ pixels each with some sidelength $L_{\\rm pix}$. Prior wisdom shows $L_{\\rm pix} = 3$ comoving Megaparsecs is a good choice, and our $N$ will be limited to 64 by our computational resources (128 or larger would be ideal). \n",
        "\n",
        "In case, you haven't seen it before comoving lengths are distances that scale with the expansion of the universe. So 3 comoving Megaparsecs (abbreviated to 3 cMpc) means the pixel would be 3 Megaparsecs in physical length today, but it would have been 0.3 Megaparsec in physical size at redshift $9$ when the universe was a tenth of its current size. We choose to have our cells be defined in comoving Megaparsecs so they, and our simulation box, scale automatically with the expansion of the universe. \n",
        "\n",
        "Let us start then by defining these all-important quantities as constants for our simulation"
      ]
    },
    {
      "cell_type": "code",
      "execution_count": null,
      "metadata": {
        "id": "zz6hLxicFMtS"
      },
      "outputs": [],
      "source": [
        "L_PIX = 3   # Pixel size in cMpc\n",
        "N_PIX = 64  # Number of pixels on each side of the simulation cube (kept small due to RAM and runtime limitations)"
      ]
    },
    {
      "cell_type": "markdown",
      "metadata": {
        "id": "b-ArwOoCFfRe"
      },
      "source": [
        "Now we have the space of our simulation sorted, let us think about the time variable. In general, time is a pain to work with in cosmology because it is specific to the exact cosmological parameters you are using, and isn't a direct observable. Instead, it is more common to work in redshift $z$. Hence that is what we shall do too. For simplicity we shall hardcode our simulation to run from redshift $50$ to $6$ (roughly the end of reionization when $T_{\\rm 21}$ vanishes) in steps of size 1"
      ]
    },
    {
      "cell_type": "code",
      "execution_count": null,
      "metadata": {
        "colab": {
          "base_uri": "https://localhost:8080/"
        },
        "id": "agv-1X26GMUC",
        "outputId": "2a707466-f574-41aa-b677-bfebf2404d5a"
      },
      "outputs": [
        {
          "output_type": "stream",
          "name": "stdout",
          "text": [
            "[50 49 48 47 46 45 44 43 42 41 40 39 38 37 36 35 34 33 32 31 30 29 28 27\n",
            " 26 25 24 23 22 21 20 19 18 17 16 15 14 13 12 11 10  9  8  7  6]\n"
          ]
        }
      ],
      "source": [
        "import numpy as np\n",
        "ZS_SIM = np.arange(50, 5, -1)  # Redshift 'time'-steps of our simulation\n",
        "print(ZS_SIM)"
      ]
    },
    {
      "cell_type": "markdown",
      "source": [
        "One last thing to mention, to ensure that our simulation does not depend on things outside of our simulation box we shall be using periodic boundary conditions throughout our implementation. "
      ],
      "metadata": {
        "id": "TF88rIsnxPxH"
      }
    },
    {
      "cell_type": "markdown",
      "metadata": {
        "id": "bAfI3mKxG6fr"
      },
      "source": [
        "## Algorithm Overview\n",
        "\n",
        "Before we go any further let us think about our end goal so we focus on writing the code we need to achieve it. We wish to compute the 21-cm signal $T_{\\rm 21}$ throughout our simulation cube at different redshifts. As we established in the theory lecture earlier to do this we need to know the\n",
        "- Background radiation temperature $T_{\\gamma}$\n",
        "- IGM kinetic temperature $T_{\\rm K}$\n",
        "- Neutral fraction of the IGM $x_{\\rm HI}$ or equivalently the electron fraction $x_{\\rm e}$\n",
        "- IGM hydrogen density $n_{\\rm H}$\n",
        "- and Lyman-$\\alpha$ intensity $J_{\\rm \\alpha}$, so that we can calculate the coupling of the spin temperature $T_{\\rm S}$ to $T_{\\rm K}$\n",
        "\n",
        "In our simulations, we will not include any excess radio background, so we can take $T_{\\gamma}$ to just be the CMB temperature everywhere (the fluctuations in the CMB are too small to be important to us)"
      ]
    },
    {
      "cell_type": "code",
      "execution_count": null,
      "metadata": {
        "id": "nceqqjWeO7OI"
      },
      "outputs": [],
      "source": [
        "T_CMB_0 = 2.725  # K\n",
        "def temperature_background_radiation(redshift):\n",
        "    \"\"\" Calculates background 21-cm radiation temperature at a given redshift \"\"\"\n",
        "    return T_CMB_0*(1 + redshift)"
      ]
    },
    {
      "cell_type": "markdown",
      "metadata": {
        "id": "K4AzzNTJFWXQ"
      },
      "source": [
        "The other four quantities of interest vary between different locations in our simulations. Hence, we shall need to model the evolution of these in more detail, finding at each redshift $N \\times N \\times N$ cubes of $T_{\\rm K}$, $x_{\\rm HI}$, $n_{\\rm H}$, and $J_{\\alpha}$. After starting from some initial conditions we will thus update these cubes of these four quantities in a numerical loop by:\n",
        "1. Using perturbation theory to evolve the matter overdensity to the current $z$ and thus find $n_{\\rm H}$\n",
        "2. Employ an analytic prescription to calculate star formation rates given the current matter overdensity in a cell\n",
        "3. Find the radiation fields at the current time step. For our simple simulation, these are the Lyman-$\\alpha$, Ionizing photon, and X-ray radiation fields\n",
        "4. Numerically integrate $T_{\\rm K}$ to the current redshift\n",
        "5. Numerically integrate $x_{\\rm e}$ to the current redshift\n",
        "6. Calculate our $T_{\\rm 21}$ cube (what we want) and store it to output at the end\n",
        "7. Repeat for the next redshift \n",
        "\n",
        "But before we implement these steps, we need somewhere to start from, the initial conditions. "
      ]
    },
    {
      "cell_type": "markdown",
      "metadata": {
        "id": "y8FpRQoWC9lr"
      },
      "source": [
        "## 0. Initial Conditions\n",
        "\n",
        "Now let us specify the initial state of the simulation at $z = 50$. Many excellent codes exist (CAMB, CLASS, RECFAST) to evolve analytically from the CMB at redshift $z \\approx 1100$ down to $z = 50$, and so we shall use the outputs of these codes to set our simulations initial state\n"
      ]
    },
    {
      "cell_type": "code",
      "execution_count": null,
      "metadata": {
        "id": "ZAqjL8SB2Osf"
      },
      "outputs": [],
      "source": [
        "initial_tk = np.ones((N_PIX, N_PIX, N_PIX), dtype=float) * 72    # z = 50, kinetic temperature 72 K (from RECFAST) assumed uniform\n",
        "initial_xe = np.ones((N_PIX, N_PIX, N_PIX), dtype=float) * 5e-4  # xe = 5e-4, electron fraction 0.0005 (from RECFAST) assumed uniform"
      ]
    },
    {
      "cell_type": "markdown",
      "metadata": {
        "id": "nNptl6FtSVpZ"
      },
      "source": [
        "For $T_{\\rm K}$ and $x_{\\rm e}$ we assumed them to be uniform, simplifying our setting of initial conditions. However, if we set all the initial state of our simulation to be uniform then our simulation being deterministic will produce a uniform $T_{\\rm 21}$ signal which we know is not realistic. It turns out the key spatial variation to encompass is that in density, normally expressed in terms of overdensity $\\delta$, the fractional increase in density. At $z = 50$ the matter overdensity at our simulation lengthscales is expected to be described by a Gaussian random field, with a power spectrum that we can compute with boltzmann solver codes such as CAMB. Here we us a fitting formula to the \n",
        "that power spectrum for quicker evaulation. \n",
        "\n",
        "\n"
      ]
    },
    {
      "cell_type": "code",
      "execution_count": null,
      "metadata": {
        "colab": {
          "base_uri": "https://localhost:8080/",
          "height": 398
        },
        "id": "pgIeI5y7Y7uJ",
        "outputId": "b4199dde-5de5-43b6-b32b-09dd6441939d"
      },
      "outputs": [
        {
          "output_type": "display_data",
          "data": {
            "text/plain": [
              "<Figure size 432x432 with 1 Axes>"
            ],
            "image/png": "[encoded data removed]"
          },
          "metadata": {
            "needs_background": "light"
          }
        }
      ],
      "source": [
        "# Spherical power spectrum approximation\n",
        "def overdensity_spherical_power_spectrum(comoving_wavevector):\n",
        "    \"\"\" \n",
        "    Approximation of matter overdensity spherically averaged power spectrum at\n",
        "    z = 50. Only valid for 0.03 cMpc^-1 <= k <= 1.8 cMpc^-1. \n",
        "    \n",
        "    Returns power spectrum in units of cMpc^3 at given k.\n",
        "    \"\"\"\n",
        "    log_ks = np.log(comoving_wavevector)   # Assume comoving wavevector in inverse cMpc\n",
        "    polynomial_fit = -0.2562 * log_ks**2 + -2.8043 * log_ks + -3.1453\n",
        "    return np.exp(polynomial_fit)\n",
        "\n",
        "\n",
        "# Visualize \n",
        "import matplotlib.pyplot as plt\n",
        "fig, ax = plt.subplots(figsize=(6, 6))\n",
        "plotting_ks = np.logspace(-2, .5)\n",
        "ax.plot(plotting_ks, overdensity_spherical_power_spectrum(plotting_ks))\n",
        "ax.set_xlabel('Wavevector $k$ cMpc$^{-1}$')\n",
        "ax.set_ylabel('Power spectrum $P_k$ cMpc$^{-3}$')\n",
        "ax.set_xscale('log')\n",
        "ax.set_yscale('log')\n",
        "plt.show()\n",
        "plt.close(fig)"
      ]
    },
    {
      "cell_type": "markdown",
      "metadata": {
        "id": "zljANhBllvvO"
      },
      "source": [
        "We thus want to find a gaussian random field with the above power spectrum. The computational details of how to do this is not important for us, all we need is the end product, the cube of overdensities at redshift 50, depicted below. "
      ]
    },
    {
      "cell_type": "code",
      "execution_count": null,
      "metadata": {
        "colab": {
          "base_uri": "https://localhost:8080/",
          "height": 644
        },
        "id": "GpzR0pxtiGji",
        "outputId": "73b76852-237f-4af3-c6ad-76d0ef524797"
      },
      "outputs": [
        {
          "output_type": "stream",
          "name": "stderr",
          "text": [
            "<ipython-input-456-36b6464dbc8f>:9: RuntimeWarning: divide by zero encountered in log\n",
            "  log_ks = np.log(comoving_wavevector)   # Assume comoving wavevector in inverse cMpc\n",
            "<ipython-input-456-36b6464dbc8f>:10: RuntimeWarning: invalid value encountered in add\n",
            "  polynomial_fit = -0.2562 * log_ks**2 + -2.8043 * log_ks + -3.1453\n"
          ]
        },
        {
          "output_type": "display_data",
          "data": {
            "text/plain": [
              "<Figure size 720x720 with 2 Axes>"
            ],
            "image/png": "[encoded data removed]"
          },
          "metadata": {
            "needs_background": "light"
          }
        }
      ],
      "source": [
        "import scipy.fft\n",
        "import scipy.fftpack\n",
        "\n",
        "# Function to compute gaussian random field\n",
        "def compute_gaussian_random_field(size, spherical_power_spectrum_fn):\n",
        "    \"\"\" Function to compute a gaussian random field \"\"\"\n",
        "\n",
        "    # Start with a normal gaussian random field and convert to fourier space\n",
        "    # this is to enforce P(k) = *P(-k) property so we get a real field on\n",
        "    # ifftn \n",
        "    standard_gaussian_random_field = np.random.normal(0, 1, size)\n",
        "    field_in_k_space = scipy.fft.fftn(standard_gaussian_random_field)\n",
        "\n",
        "    \"\"\" Each fourier mode now is a gaussian random variable with expected \n",
        "    square magnitude = N_PIX**3. Hence, it needs to be scaled\n",
        "    so its expected square magnitude is the power spectrum value \"\"\"\n",
        "\n",
        "    # Find wavevectors for each point in our random field\n",
        "    ks_1d = [2*np.pi*scipy.fftpack.fftfreq(N_DIM, d=L_PIX) for N_DIM in size]\n",
        "    kxs, kys, kzs = np.meshgrid(*ks_1d)\n",
        "    ks = np.sqrt(kxs**2 + kys**2 + kzs**2)\n",
        "\n",
        "    # Corresponding power spectrum and thus normalization\n",
        "    spherical_pk_at_ks = spherical_power_spectrum_fn(ks)\n",
        "    normalizations = np.sqrt(spherical_pk_at_ks/L_PIX**3)\n",
        "    normalizations[0, 0, 0] = 0  # Special case, = 0 by overdensity definition  \n",
        "\n",
        "    # Scale and return field back in real-space\n",
        "    scaled_field = field_in_k_space*normalizations\n",
        "    return np.real(scipy.fft.ifftn(scaled_field))\n",
        "\n",
        "\n",
        "# Fix random seed for reproducability \n",
        "import random\n",
        "random.seed(102023)\n",
        "\n",
        "# Get our overdensity field \n",
        "overdensity_z_50 = compute_gaussian_random_field((N_PIX, N_PIX, N_PIX), overdensity_spherical_power_spectrum)\n",
        "\n",
        "\n",
        "# Depict a slice of the overdensity\n",
        "fig, ax = plt.subplots(figsize=(10, 10))\n",
        "image = ax.imshow(overdensity_z_50[:, :, 0], cmap='viridis', extent=[-N_PIX*L_PIX/2, N_PIX*L_PIX/2, -N_PIX*L_PIX/2, \n",
        "                                                                     N_PIX*L_PIX/2])\n",
        "cbar = fig.colorbar(image, ax=ax, label='Overdensity $\\delta$')\n",
        "\n",
        "ax.set_xlabel('Distance $x$ cMpc')\n",
        "ax.set_ylabel('Distance $y$ cMpc')\n",
        "\n",
        "plt.show()\n",
        "plt.close(fig)"
      ]
    },
    {
      "cell_type": "markdown",
      "metadata": {
        "id": "azZWB0mfbM4-"
      },
      "source": [
        "Throughout our simulation we are going to want to store a couple of things as we go so let us define data structures to contain these. They are the 21-cm signal, our end results, and the star formation rate density, which we need for all past redshifts to compute the radiation field at the current redshift. "
      ]
    },
    {
      "cell_type": "code",
      "execution_count": null,
      "metadata": {
        "id": "TJniVJ-sbjc_"
      },
      "outputs": [],
      "source": [
        "t21_cubes = np.empty((N_PIX, N_PIX, N_PIX, len(ZS_SIM)), dtype=float)    # 21-cm signal in mK\n",
        "sfrd_cubes = np.empty((N_PIX, N_PIX, N_PIX, len(ZS_SIM)), dtype=float)   # SFRD in Msol per yr per cMpc^3"
      ]
    },
    {
      "cell_type": "markdown",
      "metadata": {
        "id": "F9698jSob1GB"
      },
      "source": [
        "We should also give these initial conditions. Since we do not know what the 21-cm signal is at redshift 50, let us be safe and just give it the value NaN. While for the SFRD, we are fairly confident their is no star formation rate yet and so can set it to zero"
      ]
    },
    {
      "cell_type": "code",
      "execution_count": null,
      "metadata": {
        "id": "vnvuhryrcBSm"
      },
      "outputs": [],
      "source": [
        "sfrd_cubes[:, :, :, 0] = 0"
      ]
    },
    {
      "cell_type": "markdown",
      "metadata": {
        "id": "FhSiaYMioD3w"
      },
      "source": [
        "## 1. Evolving Overdensity\n",
        "\n",
        "We now have our initial conditions all set. So we shall now work through our simulation loop, defining functions that will perform those key-steps for us. The first on our list is to evolve the overdensity $\\delta$ to the current redshift, and thus find $n_{\\rm H}$. As we are considering large scales at high redshifts we shall assume we can treat the overdensity as always evolving via linear perturbation theory (this assumption breaks down for rare peaks and troughs at low redshifts in our simulation). Linear perturbation theory predicts the overdensity grows as $\\propto 1/(1+z)$, so we can impliment this step quite simply. \n"
      ]
    },
    {
      "cell_type": "code",
      "execution_count": null,
      "metadata": {
        "id": "6JmDV6oErlKl"
      },
      "outputs": [],
      "source": [
        "def current_overdensity_field(redshift):\n",
        "    \"\"\" Calculates current overdensity \"\"\"\n",
        "    # Linear perturbation theory growth\n",
        "    current_overdensity = overdensity_z_50 * (1 + np.max(ZS_SIM)) / (1 + redshift)\n",
        "\n",
        "    # Ad hoc fix to stop it going into unphysical regions in rare peaks (above critical overdensity)\n",
        "    current_overdensity = np.minimum(current_overdensity, 1.686*(1-(1+redshift)/2000))  \n",
        "    # or rare voids (below -1)\n",
        "    current_overdensity = np.maximum(current_overdensity, -1)\n",
        "\n",
        "    return overdensity_z_50"
      ]
    },
    {
      "cell_type": "markdown",
      "metadata": {
        "id": "gBF4-Xa4tPL5"
      },
      "source": [
        "To convert this to the hydrogen number density $n_{\\rm H}$ in each pixel, we then times by the average comoving hydrogen number density (a constant post recombination), abd adjust for the dilation of space to get a physical density"
      ]
    },
    {
      "cell_type": "code",
      "execution_count": null,
      "metadata": {
        "id": "yTlXUfH1txLe"
      },
      "outputs": [],
      "source": [
        "def physical_nh(redshift):\n",
        "    \"\"\" Calculates the hydrogen number density at a given redshift \"\"\"\n",
        "    # Get comoving number density\n",
        "    average_comoving_nh = 5.5899e+66          # From Planck in particles per comoving megaparsec \n",
        "    comoving_nh = average_comoving_nh*(1 + current_overdensity_field(redshift))\n",
        "\n",
        "    # Correct into physical density\n",
        "    return comoving_nh * (1 + redshift)**3"
      ]
    },
    {
      "cell_type": "markdown",
      "metadata": {
        "id": "E_ru4EWPwgen"
      },
      "source": [
        "## 2. Star Formation Prescription \n",
        "\n",
        "Now we know the overdensity in each cell at a given redshift we need to convert this into star formation. We shall do this in three stages. First using an analytic prescription we shall find the expected number of dark matter halos of different masses in a pixel with a given overdensity. Then we use an analytic prescription to decide which halos will form stars. Finally we shall convert the total dark matter halo mass to a stellar mass using a star formation efficiency. \n",
        "\n",
        "For our analytic prescription for the expected number of dark matter halos we shall used the standard Sheth-Tormen mass function. Thankfully, this is a very commonly used function and so there already exists python packages that impliment this function for us, such as `hmf`"
      ]
    },
    {
      "cell_type": "code",
      "execution_count": null,
      "metadata": {
        "colab": {
          "base_uri": "https://localhost:8080/"
        },
        "id": "9APEPyRTzQpl",
        "outputId": "45e8596a-43ad-463d-9be2-6c7a0d54d92f"
      },
      "outputs": [
        {
          "output_type": "stream",
          "name": "stdout",
          "text": [
            "Looking in indexes: https://pypi.org/simple, https://us-python.pkg.dev/colab-wheels/public/simple/\n",
            "Requirement already satisfied: hmf in /usr/local/lib/python3.8/dist-packages (3.4.4)\n",
            "Requirement already satisfied: astropy>=1.1 in /usr/local/lib/python3.8/dist-packages (from hmf) (4.3.1)\n",
            "Requirement already satisfied: toml>=0.10.1 in /usr/local/lib/python3.8/dist-packages (from hmf) (0.10.2)\n",
            "Requirement already satisfied: rich in /usr/local/lib/python3.8/dist-packages (from hmf) (13.2.0)\n",
            "Requirement already satisfied: camb in /usr/local/lib/python3.8/dist-packages (from hmf) (1.3.6)\n",
            "Requirement already satisfied: scipy>=0.12.0 in /usr/local/lib/python3.8/dist-packages (from hmf) (1.7.3)\n",
            "Requirement already satisfied: deprecation in /usr/local/lib/python3.8/dist-packages (from hmf) (2.1.0)\n",
            "Requirement already satisfied: click in /usr/local/lib/python3.8/dist-packages (from hmf) (7.1.2)\n",
            "Requirement already satisfied: numpy>=1.6.2 in /usr/local/lib/python3.8/dist-packages (from hmf) (1.21.6)\n",
            "Requirement already satisfied: cached-property in /usr/local/lib/python3.8/dist-packages (from hmf) (1.5.2)\n",
            "Requirement already satisfied: pyerfa>=1.7.3 in /usr/local/lib/python3.8/dist-packages (from astropy>=1.1->hmf) (2.0.0.1)\n",
            "Requirement already satisfied: sympy>=1.0 in /usr/local/lib/python3.8/dist-packages (from camb->hmf) (1.7.1)\n",
            "Requirement already satisfied: packaging in /usr/local/lib/python3.8/dist-packages (from deprecation->hmf) (21.3)\n",
            "Requirement already satisfied: pygments<3.0.0,>=2.6.0 in /usr/local/lib/python3.8/dist-packages (from rich->hmf) (2.6.1)\n",
            "Requirement already satisfied: markdown-it-py<3.0.0,>=2.1.0 in /usr/local/lib/python3.8/dist-packages (from rich->hmf) (2.1.0)\n",
            "Requirement already satisfied: typing-extensions<5.0,>=4.0.0 in /usr/local/lib/python3.8/dist-packages (from rich->hmf) (4.4.0)\n",
            "Requirement already satisfied: mdurl~=0.1 in /usr/local/lib/python3.8/dist-packages (from markdown-it-py<3.0.0,>=2.1.0->rich->hmf) (0.1.2)\n",
            "Requirement already satisfied: mpmath>=0.19 in /usr/local/lib/python3.8/dist-packages (from sympy>=1.0->camb->hmf) (1.2.1)\n",
            "Requirement already satisfied: pyparsing!=3.0.5,>=2.0.2 in /usr/local/lib/python3.8/dist-packages (from packaging->deprecation->hmf) (3.0.9)\n"
          ]
        }
      ],
      "source": [
        "!pip install hmf\n",
        "import hmf"
      ]
    },
    {
      "cell_type": "markdown",
      "metadata": {
        "id": "xb-n0w6_2Ofm"
      },
      "source": [
        "This package impliments various mass functions via the MassFunction object. To get the mass function at a particular redshift, over a desired mass range, we simply instantiate such an object with the appropriate redshift `z`, minimum halo mass `Mmin` and maximum halo mass `Mmax`. Then access the halo mass function as properties of the object. "
      ]
    },
    {
      "cell_type": "code",
      "execution_count": null,
      "metadata": {
        "colab": {
          "base_uri": "https://localhost:8080/",
          "height": 397
        },
        "id": "t6Fj3MQY2JDT",
        "outputId": "aa957bda-642f-45fc-d70f-20b2253011ac"
      },
      "outputs": [
        {
          "output_type": "display_data",
          "data": {
            "text/plain": [
              "<Figure size 432x432 with 1 Axes>"
            ],
            "image/png": "[encoded data removed]"
          },
          "metadata": {
            "needs_background": "light"
          }
        }
      ],
      "source": [
        "# Instansiate halo mass function \n",
        "mf = hmf.MassFunction(z=7, Mmin=5, Mmax=12)\n",
        "\n",
        "# Depict halo mass function \n",
        "fig, ax = plt.subplots(figsize=(6,6))\n",
        "ax.plot(mf.m, mf.dndm)\n",
        "ax.set_xscale('log')\n",
        "ax.set_yscale('log')\n",
        "ax.set_xlabel(r\"Mass, $[h^{-1}M_\\odot]$\")\n",
        "ax.set_ylabel(r\"$dn/dm$, $[h^{4}{\\rm cMpc}^{-3}M_\\odot^{-1}]$\")\n",
        "plt.show()\n",
        "plt.close(fig)"
      ]
    },
    {
      "cell_type": "markdown",
      "metadata": {
        "id": "bpm2NY9_3Dw4"
      },
      "source": [
        "We can account for being in an overdense or underdense region by increasing or decreasing the sigma_8 parameter of the mass function "
      ]
    },
    {
      "cell_type": "code",
      "execution_count": null,
      "metadata": {
        "colab": {
          "base_uri": "https://localhost:8080/",
          "height": 397
        },
        "id": "1r8dZvRK3MhF",
        "outputId": "75c4c381-fa7c-4b78-a8ed-a4ca2cdda840"
      },
      "outputs": [
        {
          "output_type": "display_data",
          "data": {
            "text/plain": [
              "<Figure size 432x432 with 1 Axes>"
            ],
            "image/png": "[encoded data removed]"
          },
          "metadata": {
            "needs_background": "light"
          }
        }
      ],
      "source": [
        "# Save old results\n",
        "mf_m = mf.m\n",
        "mf_dndm = mf.dndm\n",
        "\n",
        "# Get sigma 8 from Planck LCDM cosmology \n",
        "cosmological_sigma_8 = hmf.MassFunction.get_all_parameter_defaults(recursive=False)['sigma_8']\n",
        "\n",
        "# Increase sigma 8 to simulate being in a 10% overdensity \n",
        "example_overdensity = 0.1\n",
        "overdense_mf = hmf.MassFunction(z=7, Mmin=5, Mmax=12, sigma_8=cosmological_sigma_8*(1 + example_overdensity))\n",
        "\n",
        "# Plot comparison \n",
        "fig, ax = plt.subplots(figsize=(6, 6))\n",
        "ax.plot(mf_m, mf_dndm, label='Cosmological average')\n",
        "ax.plot(overdense_mf.m, overdense_mf.dndm, label='10% overdensity')\n",
        "ax.set_xscale('log')\n",
        "ax.set_yscale('log')\n",
        "ax.set_xlabel(r\"Mass, $[h^{-1}M_\\odot]$\")\n",
        "ax.set_ylabel(r\"$dn/dm$, $[h^{4}{\\rm cMpc}^{-3}M_\\odot^{-1}]$\")\n",
        "ax.legend()\n",
        "plt.show()\n",
        "plt.close(fig)"
      ]
    },
    {
      "cell_type": "markdown",
      "metadata": {
        "id": "Rl1-mNofNMX0"
      },
      "source": [
        "As a word of caution `hmf` uses hubble normalized physical units, which we will need to correct for as we are using unscaled comoving units. \n",
        "\n",
        "On too the second step then. What halos form stars? Again we shall use a simple analytic prescription that does not include any feedback effects, in this case that of Tegmark et al. 1997 (TODO). That halos form stars if they are above\n",
        "$$\n",
        "M_{\\rm crit} = \\left(3.3 \\times 10^7 {\\rm \\,M}_{\\odot}\\right) \\times (1 + z)^{-3/2}\n",
        "$$\n"
      ]
    },
    {
      "cell_type": "code",
      "execution_count": null,
      "metadata": {
        "colab": {
          "base_uri": "https://localhost:8080/",
          "height": 390
        },
        "id": "c1UKACmANNPL",
        "outputId": "cc7d6f7e-c890-4f8b-e82b-35b984148a70"
      },
      "outputs": [
        {
          "output_type": "display_data",
          "data": {
            "text/plain": [
              "<Figure size 432x432 with 1 Axes>"
            ],
            "image/png": "[encoded data removed]"
          },
          "metadata": {
            "needs_background": "light"
          }
        }
      ],
      "source": [
        "def critical_halo_mass_for_star_formation(redshift):\n",
        "    \"\"\" Dark matter halo mass above which stars will form in the halo \"\"\"\n",
        "    return 3.3e7 * ((1 + redshift)**(-3/2))\n",
        "\n",
        "\n",
        "# Illusration of this function \n",
        "fig, ax = plt.subplots(figsize=(6,6))\n",
        "ax.plot(ZS_SIM, critical_halo_mass_for_star_formation(ZS_SIM))\n",
        "ax.set_yscale('log')\n",
        "ax.set_xlabel(r\"Redshift $z$\")\n",
        "ax.set_ylabel(r\"Critical Halo Mass for Star Formation $M_{\\rm crit}$ [M$_{\\rm odot}$]\")\n",
        "plt.show()\n",
        "plt.close(fig)"
      ]
    },
    {
      "cell_type": "markdown",
      "metadata": {
        "id": "ZTzEp_ORPgFT"
      },
      "source": [
        "Finally we need to specify our star formation efficiency. We can split this into two efficiency factors, the fraction of a halos mass that is baryons $f_{\\rm g}$ and the fraction of baryons which are in stars $f_{*}$. For the former we shall just assume the cosmological ratio holds for halos as well and use"
      ]
    },
    {
      "cell_type": "code",
      "execution_count": null,
      "metadata": {
        "id": "Y9pn0eJyQODt"
      },
      "outputs": [],
      "source": [
        "F_GAS = 0.171"
      ]
    },
    {
      "cell_type": "markdown",
      "metadata": {
        "id": "6_aBCTuWQRD4"
      },
      "source": [
        "$f_*$ should vary between halos of different masses. With it being lower in smaller halos, and greater in larger halos due to feedback effects (at least for the relatively low mass halos we are considering before AGN kick in). We shall model this by having a log supression in our fstar below the atomic cooling threshold, the threshold at which star formation can occur from cooling from atomic hydrogen alone (in smaller halos molecular hydrogen cooling is required). Above this threshold we shall take $f_*$ as a constant, that is set as a simulation parameter $f_{\\rm star}$ and take it as an input. \n",
        "\n",
        "For the suprression factor below this threshold we shall use log suppression between the critical mass for star formation $M_{\\rm crit}$ and this atomic therehold\n",
        "$$\n",
        "M_{\\rm atm} = \\left(3.45 \\times 10^8 {\\rm M}_{\\odot} \\right) \\times \\left(\\frac{1+z}{21}\\right)^{-3/2}\n",
        "$$\n",
        "for which we are again using a fitting formula. So the star formation rate in a halo of mass $M$ is given by\n",
        "$$\n",
        "f_*(M) = \\frac{\\log(M) - \\log(M_{\\rm crit})}{\\log(M_{\\rm atm}) - \\log(M_{\\rm crit})}f_{\\rm star}\n",
        "$$\n",
        "for $M_{\\rm crit} \\leq M \\leq M_{\\rm atm}$. 0, below this range and $f_{\\rm star}$ above it."
      ]
    },
    {
      "cell_type": "code",
      "source": [
        "def get_suppressed_fstar(f_star, masses, m_crit, redshift):\n",
        "    \"\"\" Calculate f_star in different halo masses \"\"\"\n",
        "    m_atm = 3.45e8 * (((1 + redshift) / 21)**(-3/2))\n",
        "\n",
        "    # Branchless case handling\n",
        "    f_star_sup = 0*(masses < m_crit) + \\\n",
        "                 f_star*(masses >= m_crit)*(masses <= m_atm)*(np.log(masses) \n",
        "                 - np.log(m_crit))/(np.log(m_atm) - np.log(m_crit)) + \\\n",
        "                 f_star*(masses > m_atm)\n",
        "    return f_star_sup"
      ],
      "metadata": {
        "id": "q-ztg7mpQgfZ"
      },
      "execution_count": null,
      "outputs": []
    },
    {
      "cell_type": "markdown",
      "metadata": {
        "id": "aCPHoptOQqvj"
      },
      "source": [
        "Let us now combine all of this into a function that compute the star formation rate densities at a given redshift"
      ]
    },
    {
      "cell_type": "code",
      "execution_count": null,
      "metadata": {
        "id": "88Td87YPQ3Ch"
      },
      "outputs": [],
      "source": [
        "# Scipy functions we will need\n",
        "from scipy.interpolate import interp1d\n",
        "from scipy.integrate import trapz \n",
        "\n",
        "# Cosmological parameter we will need\n",
        "PLANCK_h = 67.4/100\n",
        "PLANCK_Omega_m = 0.315\n",
        "\n",
        "\n",
        "# First get stellar mass in each cell\n",
        "def stellar_mass(redshift, f_star):\n",
        "    \"\"\" Get stellar mass density in each cell in Msol cMpc^-3 \"\"\"\n",
        "    \n",
        "    # Current overdensity\n",
        "    overdensity = current_overdensity_field(redshift)\n",
        "\n",
        "    # Current critical mass for star formation\n",
        "    m_crit = critical_halo_mass_for_star_formation(redshift)\n",
        "\n",
        "    # For efficiency let us define an interpolator function to approximate the stellar mass integral\n",
        "    # Start by setting what values we are going to interpolate in between\n",
        "    sample_overdensities = np.linspace(np.min(overdensity), np.max(overdensity), 100)\n",
        "    sample_solar_mass_densities = np.empty(sample_overdensities.shape, dtype=float)\n",
        "\n",
        "    # Get the mass function at this redshift above the critical mass threshold\n",
        "    create_mass_function = hmf.MassFunction(z=redshift, Mmin=np.log10(m_crit/PLANCK_h), Mmax=np.log10(1e13/PLANCK_h))\n",
        "\n",
        "    # Update the mass thershold for each overdensity (updating is more efficient as can reuse parts of calculation)\n",
        "    for idx, delta in enumerate(sample_overdensities):\n",
        "        create_mass_function.update(sigma_8=cosmological_sigma_8*(1 + delta))\n",
        "\n",
        "        # Correct for hubble normalized units being used\n",
        "        halo_masses = create_mass_function.m / PLANCK_h\n",
        "        halo_mass_function = create_mass_function.dndm * PLANCK_h**4\n",
        "\n",
        "        # Integrate to find stellar mass density in Msol cMpc^-3 (performed in ln M for accuracy)\n",
        "        sup_fstar = get_suppressed_fstar(f_star, halo_masses, m_crit, redshift)\n",
        "        stellar_mass_density = trapz(sup_fstar*F_GAS*(halo_masses**2)*halo_mass_function, np.log(halo_masses))\n",
        "\n",
        "        # Store correcting for comoving volume \n",
        "        sample_solar_mass_densities[idx] = stellar_mass_density\n",
        "    \n",
        "    # Setup the interpolator\n",
        "    delta_to_solar_mass_fn = interp1d(sample_overdensities, sample_solar_mass_densities)\n",
        "\n",
        "    # Interpolate to get out density cube\n",
        "    return delta_to_solar_mass_fn(overdensity)\n",
        "\n",
        "\n",
        "# Convert to star formation rate\n",
        "def star_formation_rate_density(redshift, f_star):\n",
        "    \"\"\" Get star formation rate density cube in Msol yr^-1 cMpc^-3 \"\"\"\n",
        "\n",
        "    # Find change in stellar mass between now and a short time (dz) ago\n",
        "    dz = 1e-5\n",
        "    stellar_mass_density_now = stellar_mass(redshift, f_star)\n",
        "    stellar_mass_density_dz_ago = stellar_mass(redshift + dz, f_star)\n",
        "\n",
        "    # Conver this dz to time interval dt using standard LCDM formula \n",
        "    dt = dz/ ((1 + redshift) * (PLANCK_h * 100 * np.sqrt(1 - PLANCK_Omega_m + PLANCK_Omega_m*((1 + redshift)**3))))\n",
        "    dt = dt * 3.09e19 / 3.16e7  # Convert to years\n",
        "\n",
        "    # Calculate derivative\n",
        "    return (stellar_mass_density_now - stellar_mass_density_dz_ago) / dt\n"
      ]
    },
    {
      "cell_type": "markdown",
      "metadata": {
        "id": "F-QrgH-cWlXH"
      },
      "source": [
        "Before we move on, let us quickly test this code works and plot the average star formation rate\n",
        "density across a few redshifts"
      ]
    },
    {
      "cell_type": "code",
      "execution_count": null,
      "metadata": {
        "colab": {
          "base_uri": "https://localhost:8080/",
          "height": 390
        },
        "id": "5ZUYyfAtbPcN",
        "outputId": "0b1d653d-9f61-4c02-f480-131db786dace"
      },
      "outputs": [
        {
          "output_type": "display_data",
          "data": {
            "text/plain": [
              "<Figure size 432x432 with 1 Axes>"
            ],
            "image/png": "[encoded data removed]"
          },
          "metadata": {
            "needs_background": "light"
          }
        }
      ],
      "source": [
        "# Plot mean SFRD\n",
        "fig, ax = plt.subplots(figsize=(6,6))\n",
        "\n",
        "plotting_zs = np.linspace(6, 40, 20)  # What redshifts to use\n",
        "test_f_star = 0.01                    # Need a value of fstar\n",
        "\n",
        "ax.plot(plotting_zs, [np.mean(star_formation_rate_density(z, test_f_star)) for z in plotting_zs])\n",
        "ax.set_yscale('log')\n",
        "ax.set_xlabel(r\"Redshift $z$\")\n",
        "ax.set_ylabel(r\"Mean Star Formation Rate Density [M$_{\\rm \\odot}$ yr$^{-1}$ cMpc$^{-3}$]\")\n",
        "plt.show()\n",
        "plt.close(fig)"
      ]
    },
    {
      "cell_type": "markdown",
      "metadata": {
        "id": "slhjKDhU7P-C"
      },
      "source": [
        "Note normally we would not expect the star formation rate to peak (at least not until $z \\approx 2$). This is an artefact of our oversimplified star formation model not including important feedback effects such as the LW feedback. "
      ]
    },
    {
      "cell_type": "markdown",
      "metadata": {
        "id": "t-fsTdBk6aa3"
      },
      "source": [
        "## 3. Radiative Transfer\n",
        "\n",
        "Now we have our star formation rate densities we wish to convert these to radiation fields for the key radiative species, Lyman-$\\alpha$, X-rays, and Ionizing photons. \n",
        "\n",
        "\n",
        "### 3.1 Lyman-$\\alpha$\n",
        "\n",
        "Let us start with Lyman-$\\alpha$. As discussed in the theory lecture Lyman band photons trigger the Wouthuysen Field Effect once redshifted or cascaded into the Lyman-$\\alpha$ line so it is important to include them in our simulation. For simplicity we will make a few assumptions:\n",
        "1. Lyman-$\\alpha$ emission is isotropic\n",
        "2. All star forming halos emit Lyman band photons with the same efficieny and spectra\n",
        "3. Said spectra is flat when expressed in terms of number per unit frequency\n",
        "4. We can ignore injected Lyman-$\\alpha$ photons and just consider continuum Lyman-$\\alpha$ photons\n",
        "\n",
        "We make the last assumption to avoid having to introduce the full complexity of cascading modelling. We hence want to impliment a slightly modified version of the prescription introduced in Barkana and Loev 2005 (TODO cite) where the Lyman-$\\alpha$ radiation field is given by the integral\n",
        "$$\n",
        "J_{\\alpha}(\\vec{x}, z) = \\int_z^{z_{\\rm max}} dz' \\frac{1}{4 \\pi} \\frac{(1 + z)^2}{4 \\pi r_c^2} \\left\\langle \\frac{d \\phi(\\nu')}{d z} \\right\\rangle_{r_c} \n",
        "$$\n",
        "where $r_c$ is the comoving distance a photon would travel between $z'$ and $z$, $\\nu'$ the energy of a photon emitted at $z'$ that is just redshifting into the Lyman-$\\alpha$ frequency\n",
        "$$\n",
        "\\nu' = \\nu_{\\alpha} (1 + z')/(1+z),\n",
        "$$\n",
        "$z_{\\rm max}$ is the maximum redshift Lyman-$\\alpha$ photons could be arriving from, which for us ignoring cascading is given by any redshift for which $\\nu'$ is greater than the Lyman-$\\beta$ energy\n",
        "$$\n",
        "z_{\\rm max} = \\frac{\\nu_{\\beta}}{\\nu_{\\alpha}} (1+z) - 1 = \\frac{32}{27}(1+z) - 1,\n",
        "$$\n",
        "and $\\langle d \\phi(\\nu') / d z \\rangle$ is the emissivity per unit redshift (in photons per Hz per second) at $\\nu'$ at $z'$ averaged over a spherical shell of radius $r_p$. \n",
        "\n",
        "We shall take as a parameter of our simulation a Lyman emission efficiency $\\eta_{\\rm Ly}$, the number of Lyman band photon emitted per $M_{\\odot}$ of star formation. Hence using our assumption of a flat Lyman band emission we get the local emissivity in the Lyman band is ,\n",
        "$$\n",
        "\\frac{d\\phi(\\nu)}{d z} = \\eta_{\\rm Ly} {\\rm SFRD} \\frac{3}{\\nu_{\\alpha}} \\frac{dV}{dz}\n",
        "$$\n",
        "where the $3 / \\nu_{\\alpha}$ comes from the width of the Lyman band, $dV$ is the volume of the thin shell, and $dz$ is its width in redshift.\n",
        "\n",
        "The last thing we need to figure out is how to do the actual integral over these averaged shells of $d \\phi / dz$. Like always in numerics we discretize the process. Using spherical shell window functions $W(r_c)$ with thickness $\\Delta r_c$. These window functions will be spherical due to our isotropic assumption, and normalized so their integral is 1, hence they are a probability distribution and so integrating over them gives the average. Our integral thus becomes a sum over these window functions\n",
        "$$\n",
        "J_{\\alpha}(\\vec{x}, z) =  \\sum_i \\frac{dz'}{dr_c} \\frac{1}{4 \\pi} \\frac{(1 + z)^2}{4 \\pi r_c^2} \\left(\\int dV W_i(r_c, \\vec{x}) \\frac{d \\phi(\\nu', z', \\vec{x})}{d z} \\right)  \\Delta r_{c,i}\n",
        "$$\n",
        "Doing this integral individually for all of the different points in our simulation would be very computationally expensive, but since its the same window function around every point we can rephrase this as a convolution. Something which can thankfully be done very efficiently in fourier space\n",
        "$$\n",
        "J_{\\alpha}(\\vec{x}, z) =  \\sum_i \\frac{dz'}{dr_c} \\frac{1}{4 \\pi} \\frac{(1 + z)^2}{4 \\pi r_c^2} \\left( W_i(r_c, \\vec{x}) \\ast \\frac{d \\phi(\\nu', z', \\vec{x})}{d z} \\right) \\Delta r_{c,i}\n",
        "$$\n",
        "\n"
      ]
    },
    {
      "cell_type": "markdown",
      "metadata": {
        "id": "aGuJGTFCDaDM"
      },
      "source": [
        "Now we have an idea of what we are going to impliment, let us specify functions to do the relevant parts. Starting with specifying the window functions"
      ]
    },
    {
      "cell_type": "code",
      "execution_count": null,
      "metadata": {
        "colab": {
          "base_uri": "https://localhost:8080/"
        },
        "id": "-5UgU7pVYr6y",
        "outputId": "ad35ea3a-07f5-4454-9a71-3b1202ee9a41"
      },
      "outputs": [
        {
          "output_type": "stream",
          "name": "stderr",
          "text": [
            "/usr/local/lib/python3.8/dist-packages/numpy/core/function_base.py:277: RuntimeWarning: overflow encountered in power\n",
            "  return _nx.power(base, y)\n"
          ]
        }
      ],
      "source": [
        "WINDOW_OUTER_RS = np.logspace(np.log10(L_PIX/3), 10e3, 100)  # Go from sub pixel scales to cosmological scales (in cMpc)\n",
        "WINDOW_INNER_RS = np.zeros(len(WINDOW_OUTER_RS))\n",
        "WINDOW_INNER_RS[1:] = WINDOW_OUTER_RS[:1]                    # For photon conservation need outers to match inners\n",
        "\n",
        "def get_spherical_window_function(r_in, r_out):\n",
        "    \"\"\" Get a spherical shell window function \"\"\"\n",
        "    \n",
        "    if r_out > L_PIX*(N_PIX - 1) / 2:\n",
        "        # If would go outside box, return a uniform window function \n",
        "        return np.ones((N_PIX, N_PIX, N_PIX))/(N_PIX)**3\n",
        "    \n",
        "    # Get distance to each pixel\n",
        "    pixel_distance_1d = np.fft.fftfreq(N_PIX, d = 1/(N_PIX*L_PIX))\n",
        "    xs, ys, zs = np.meshgrid(pixel_distance_1d, pixel_distance_1d, pixel_distance_1d)\n",
        "    rs = np.sqrt(xs**2 + ys**2 + zs**2)\n",
        "\n",
        "    # Find those that are inside the window function \n",
        "    unnormalized_window_function = np.bitwise_and((rs >= r_in), (rs <= r_out))\n",
        "    normalised_window_function = unnormalized_window_function / np.sum(unnormalized_window_function)\n",
        "\n",
        "    return normalised_window_function"
      ]
    },
    {
      "cell_type": "markdown",
      "metadata": {
        "id": "M7vXNO3Eb0pi"
      },
      "source": [
        "Define functions for key quantities"
      ]
    },
    {
      "cell_type": "code",
      "execution_count": null,
      "metadata": {
        "id": "_7feRLMLb5Xe"
      },
      "outputs": [],
      "source": [
        "NU_ALPHA = 2.47e15  # Frequency of Lyman Alpha in Hz\n",
        "\n",
        "def nu_prime(z, z_prime):\n",
        "    \"\"\" Find frequency at emission \"\"\"\n",
        "    return NU_ALPHA*(1 + z_prime)/(1 + z) \n",
        "\n",
        "\n",
        "def calc_z_max(z):\n",
        "    \"\"\" Maximum redshift that Lyman alpha emisison can come from \"\"\"\n",
        "    return (32/27)*(1 + z) - 1"
      ]
    },
    {
      "cell_type": "markdown",
      "metadata": {
        "id": "dHGS0_dOcbvt"
      },
      "source": [
        "We need to be able to translate the $r_c$ to $z'$. This is cosmology specific so I am going to assume that we are using $\\Lambda$CDM cosmology. Using this we can solve for $z'$ given $r_c$ using the geodesic equation of a photon in a FRLW metric\n",
        "$$\n",
        "c \\Delta t = \\pm r_c\n",
        "$$\n",
        "and the redshift evolution rate in $\\Lambda CDM$\n",
        "$$\n",
        "\\frac{dz}{dt} = - (1 + z) H_0 \\sqrt{\\Omega_m (1+z)^3 + 1 - \\Omega_m}\n",
        "$$\n",
        "which implies\n",
        "$$\n",
        "\\frac{dz}{dr_c} = (1 + z) \\frac{H_0}{c} \\sqrt{\\Omega_m (1+z)^3 + 1 - \\Omega_m}\n",
        "$$"
      ]
    },
    {
      "cell_type": "code",
      "execution_count": null,
      "metadata": {
        "id": "htpjYAicdAtt"
      },
      "outputs": [],
      "source": [
        "import scipy.constants\n",
        "from scipy.integrate import quad\n",
        "\n",
        "def dz_drc(z):\n",
        "    \"\"\" Calculate redshift rate for comoving distance travel [m^-1] \"\"\"\n",
        "    prefactor = (1 + z) * ((PLANCK_h * 100 / 3.09e19) / scipy.constants.c)\n",
        "    return prefactor*np.sqrt(1 - PLANCK_Omega_m + PLANCK_Omega_m*((1 + z)**3))\n",
        "\n",
        "# We can then integrate this to find z_prime given a rc distance\n",
        "def z_prime_from_rc(rc, z):\n",
        "    \"\"\" Get z_prime for a given shell comoving distance (rc assumed to be in cMpc) \"\"\"\n",
        "    # Integrate over a resolution of 1000\n",
        "    int_rcs = np.linspace(0, rc*3.09e22, 1000)\n",
        "\n",
        "    # Setup current state\n",
        "    current_z = z\n",
        "    past_rc = 0\n",
        "    for current_rc in int_rcs[1:]:\n",
        "        # Advance in small redshift chunks\n",
        "        dzdr = dz_drc(current_z)\n",
        "        current_z += dzdr * (current_rc - past_rc)\n",
        "        if current_z >= np.max(ZS_SIM):  # Stop if too large and before our simulation starts \n",
        "            break\n",
        "        past_rc = current_rc \n",
        "    return current_z\n"
      ]
    },
    {
      "cell_type": "markdown",
      "metadata": {
        "id": "UGyj7quYfC2W"
      },
      "source": [
        "Finally we can combine these to get our Lyman-$\\alpha$ radiation field"
      ]
    },
    {
      "cell_type": "code",
      "execution_count": null,
      "metadata": {
        "id": "FSOsKEOjfR60"
      },
      "outputs": [],
      "source": [
        "def calculate_lyman_alpha_radiation_field(past_redshift, past_sfrds, eta_lyman):\n",
        "    \"\"\" Calculate the Lyman alpha radiation field [cm−2 s-1 Hz−1 sr−1]\"\"\"\n",
        "    # Setup datastructure for radiation field\n",
        "    j_alpha = np.zeros((N_PIX, N_PIX, N_PIX))\n",
        "\n",
        "    # Get key redshifts\n",
        "    current_z = np.min(past_redshift)\n",
        "    z_max = calc_z_max(current_z)\n",
        "\n",
        "    # Going to want SFRD at zs that are not in ZS_SIM so will need to interpolate\n",
        "    sfrd_given_z = interp1d(past_redshift, past_sfrds)\n",
        "\n",
        "    # Loop over window function e.g. past times\n",
        "    for window_idx, (r_in, r_out) in enumerate(zip(WINDOW_INNER_RS, WINDOW_OUTER_RS)):\n",
        "        # Get redshift of shell and its redshift\n",
        "        r_shell = (r_in + r_out)*(3.086e+22)/2\n",
        "        z_shell = z_prime_from_rc((r_in + r_out)/2, current_z)\n",
        "\n",
        "        # Stop if above z_max or the redshift that we have SFRD for\n",
        "        if z_shell > z_max:\n",
        "            break\n",
        "        if z_shell > np.max(past_redshift):\n",
        "            break \n",
        "        \n",
        "        # Construct our summation term\n",
        "        prefactor = dz_drc(z_shell) * (1/(4*np.pi)) * ((1 + current_z)**2 / (4 * np.pi * (r_shell)**2)) \n",
        "        delta_r = (r_out - r_in)*(3.086e+22)  # Convert to m\n",
        "\n",
        "        window_function = get_spherical_window_function(r_in, r_out)\n",
        "        dV = (4/3)*np.pi*(r_out**3 - r_in**3)\n",
        "        dz = z_prime_from_rc(r_out, current_z) - z_prime_from_rc(r_in, current_z)\n",
        "\n",
        "        emission_rates = eta_lyman*(sfrd_given_z(z_shell))*(3 / NU_ALPHA)*dV/dz\n",
        "\n",
        "        convolution_term = scipy.fft.ifftn(scipy.fft.fftn(window_function)*\n",
        "                                           scipy.fft.fftn(emission_rates))  # Use convolution thm\n",
        "        \n",
        "        # Combine\n",
        "        j_alpha += prefactor*delta_r*np.real(convolution_term)\n",
        "\n",
        "\n",
        "    # Convert to cm and s\n",
        "    j_alpha = j_alpha * (1 / (100**2)) * (1 / 3.16e7)\n",
        "    return j_alpha\n"
      ]
    },
    {
      "cell_type": "markdown",
      "source": [
        "### 3.2 X-ray Heating\n",
        "\n",
        "In general the theoretical expectation is that X-rays that heat the early universe are long ranged, with mean free paths of O(100 cMpc). Which is larger than the radii of our simulation box. Hence, modelling shell radiative transfer for X-ray heating is probably excessive for our toy simulation model. So instead we will treat X-ray heating as a instantaneous uniform process. With a simple efficiecy factor $\\eta_{\\rm X-ray}$, the heat energy deposited into the IGM per unit star formation in J M$_{\\odot}^{-1}$. This efficicency factor should in reality evolve with time as the opacitiy of the IGM to X-rays changes with its density and chemical composition, and the X-ray spectrum of the stellar population evolves. \n",
        "\n",
        "But, we are trying to keep this simulation light enougth to run in this notebook, so we will approximate $\\eta_{\\rm X-ray}$ as just a constant. The X-ray heating field then is just given by\n",
        "$$\n",
        "\\epsilon_{X} = \\eta_{\\rm X-ray} \\langle SFRD \\rangle \n",
        "$$\n",
        "where we shall give it units of J cMpc${^{-3}}$ yr${^{-1}}$."
      ],
      "metadata": {
        "id": "LN2EB2BxDhvE"
      }
    },
    {
      "cell_type": "code",
      "source": [
        "def calculate_xray_radiation_field(sfrd, eta_xray):\n",
        "    \"\"\" Calculate X-ray heating field [J cMpc−3 yr−1]\"\"\"\n",
        "    return eta_xray*np.mean(sfrd)"
      ],
      "metadata": {
        "id": "-ex510OsFGNv"
      },
      "execution_count": null,
      "outputs": []
    },
    {
      "cell_type": "markdown",
      "source": [
        "### 3.3 Ionizing Radiation\n",
        "\n",
        "Unlike X-rays, for which the cross section of the IGM is relativley small, the cross section of the neutral IGM for ionizing photons is very large, and hence ionizing photons are more or less instantly absorbed as soon as they reach a neutral region. Hence, the ionizing photons from each of our pixels is expected to be confined to that pixel until it is fully ionized, at which point it will start entering the neighbouring pixels. \n",
        "\n",
        "A common method for implimenting this sort of process is exurcsion set theory (TODO cite). \n",
        "\n",
        "We shall again for sake of computational speed, and quick implimentation instead just assume that ionizing photons can never escape the pixel they form in. And so the ionization rate in any given pixel is just proportional to the SFRD in that pixel\n",
        "$$\n",
        "\\Lambda = \\eta_{\\rm ion} \\frac{SFRD}{n_b} \n",
        "$$\n",
        "where $n_b$ is the comoving baryon density, and $\\eta_{\\rm ion}$ an efficiency factor that accounts for the number of ionizng photons released per unit mass of star formation. "
      ],
      "metadata": {
        "id": "tKDY2piHX06h"
      }
    },
    {
      "cell_type": "code",
      "source": [
        "def calculate_ionization_rate(sfrd, eta_ion, nh, redshift):\n",
        "    \"\"\" Calculate the ionization rate field in [ionizations yr^-1 per baryon] \"\"\"\n",
        "    nh_comoving = nh/(1 + redshift)**3  # nh is physical density\n",
        "    nb_comoving = nh_comoving*(16/15)   # Account for Helium fraction \n",
        "    return eta_ion*sfrd/nb_comoving \n"
      ],
      "metadata": {
        "id": "MTa0arY-X0KB"
      },
      "execution_count": null,
      "outputs": []
    },
    {
      "cell_type": "markdown",
      "source": [
        "## 4. Temperature Evolution of the IGM\n",
        "\n",
        "Many things impact the temperature of the IGM including but not limited to heating from X-rays, Lyman photons, cosmic rays and cooling due to structure formation, the hubble expansion, and ionization.\n",
        "\n",
        "For our model we limit ourselves to perhaps the two most important of these, heating from X-rays and cooling due to structure formation. We already established that in our models X-rays deposited heat at a rate $\\epsilon_X$, and as the IGM is made of non-relativistic particles the expansion of the universe makes there velocities scale as $(1+z)$ and hence there kinetic energy and temperature scale as $(1+z)^2$. We can combine these effects in the differential equation\n",
        "$$\n",
        "\\frac{dT_{\\rm K}}{dz} = \\frac{2 T_{\\rm K}}{1 + z} + \\frac{2}{3 k_{\\rm B}(1 + x_{\\rm e})}\\frac{dt}{dz} \\hat{\\epsilon}_X\n",
        "$$\n",
        "where $\\hat{\\epsilon}_X$ is the heating input by X-rays per baryon per unit time in a pixel.\n",
        "\n",
        "We can thus evaulate this differential heating rate"
      ],
      "metadata": {
        "id": "JtTAGUSrJDP2"
      }
    },
    {
      "cell_type": "code",
      "source": [
        "def normalize_heating_rate(heating_rate, nh, redshift):\n",
        "    \"\"\" Convert heating rate in J cMpc^-3 yr^-1 to J per baryon \"\"\"\n",
        "    nh_comoving = nh/(1 + redshift)**3  # nh is physical density\n",
        "    nb_comoving = nh_comoving*(16/15)   # Account for Helium fraction \n",
        "    return heating_rate / nb_comoving\n",
        "\n",
        "\n",
        "def igm_heating_rate(tk, xray_heating_rate, xe, redshift, nh):\n",
        "    \"\"\" Evaluate IGM heating rate \"\"\"\n",
        "    adiabatic_term = 2*tk/(1 + redshift)\n",
        "\n",
        "    kb = scipy.constants.k\n",
        "    dtdz = -(3.09e19 / 3.16e7)/ ((1 + redshift) * \n",
        "                                 (PLANCK_h * 100 * np.sqrt(1 - PLANCK_Omega_m + PLANCK_Omega_m*((1 + redshift)**3))))\n",
        "    heating_term = (2/3)*(1/(kb*(1 + xe)))*dtdz*normalize_heating_rate(xray_heating_rate, nh, redshift)\n",
        "\n",
        "    return adiabatic_term + heating_term"
      ],
      "metadata": {
        "id": "Fyt1rHJHK3DD"
      },
      "execution_count": null,
      "outputs": []
    },
    {
      "cell_type": "markdown",
      "source": [
        "We will then integrate the heating rate in the main simulation loop in Section 7. "
      ],
      "metadata": {
        "id": "orBO22WmMd9j"
      }
    },
    {
      "cell_type": "markdown",
      "source": [
        "## 5. Ionization of the IGM\n",
        "\n",
        "The electron fraction of the IGM is a balance between ionization from ionizing photons and recombination of the hydrogen gas. This can be expressed in the differential equation\n",
        "$$\n",
        "\\frac{dx_{e}}{dz} = \\left(\\Lambda - n_H \\alpha_Bx_e^2\\right)\\frac{dt}{dz}, \n",
        "$$\n",
        "Where $\\alpha_B$ is the type-B recombination coefficient \n",
        "$$\n",
        "\\alpha_B = 2.6 \\times 10^{-13} \\left(\\frac{T_K}{10^4 \\rm{\\,K}}\\right)^{-0.7}\n",
        "$$\n",
        "\n"
      ],
      "metadata": {
        "id": "_63IrOcaZ4CZ"
      }
    },
    {
      "cell_type": "code",
      "source": [
        "def igm_ionization_rate(tk, ionization_rate, xe, redshift, nh):\n",
        "    \"\"\" Evaluate IGM heating rate \"\"\"\n",
        "\n",
        "    # Correct units\n",
        "    nh = nh/(3.1e24)**3\n",
        "\n",
        "    # Get recombination rate \n",
        "    alpha_b = 2.6e-13*((tk/1e4)**(-0.7))\n",
        "\n",
        "    # Ionization rate in time\n",
        "    dxedt = ionization_rate - nh*alpha_b*xe**2\n",
        "\n",
        "    # Convert to redshift\n",
        "    dtdz = -(3.09e19 / 3.16e7)/ ((1 + redshift) * \n",
        "                                 (PLANCK_h * 100 * np.sqrt(1 - PLANCK_Omega_m + PLANCK_Omega_m*((1 + redshift)**3))))\n",
        "    return dxedt*dtdz"
      ],
      "metadata": {
        "id": "1Hkc3B-Hag3d"
      },
      "execution_count": null,
      "outputs": []
    },
    {
      "cell_type": "markdown",
      "source": [
        "Note because of our simulation assumes all ionizing photons are absorbed in the pixel of origin $\\Lambda$ does not decrease as $x_e$ goes to 1 (and hence $x_{\\rm HI} = 0$), then $x_{\\rm e}$ can go above 1. We will have to correct for that in our simulation loop as this is obviously aphysical. "
      ],
      "metadata": {
        "id": "XuLd3WhDahNx"
      }
    },
    {
      "cell_type": "markdown",
      "metadata": {
        "id": "Yyv54nONnORb"
      },
      "source": [
        "## 6. Getting 21-cm Cubes\n",
        "\n",
        "At the end of each step we now have all the ingredients we need to calculate the 21-cm cube. Let us now define the functions to convert these to the 21-cm signal cubes our end goal. \n",
        "\n",
        "To star with we need to spin temperature\n",
        "\n",
        "TODO formula"
      ]
    },
    {
      "cell_type": "code",
      "execution_count": null,
      "metadata": {
        "id": "EAJHi_W4pcmw"
      },
      "outputs": [],
      "source": [
        "def calc_xalpha(t_rad, j_alpha):\n",
        "    \"\"\" WF coupling coefficient \"\"\"\n",
        "    prefactor =  4.9107e+11  # Combination of all the physical constants from the above formula [K cm^2]\n",
        "    return prefactor * j_alpha / t_rad\n",
        "\n",
        "\n",
        "def calc_xc(t_rad, t_k, nh):\n",
        "    \"\"\" Collisional coupling coefficient \"\"\"\n",
        "    tstar = 0.0682    # K\n",
        "    A_10 = 2.85e-15   # s^-1\n",
        "\n",
        "    # Convert to cm\n",
        "    nh = nh/(3.1e24)**3\n",
        "\n",
        "    # Calculate kappa using fitting formula (only considering Hydrogen contribution for simplicity)\n",
        "    poly_val_fit = [-7.20160440187404e-08, 6.05472875909749e-06, -0.000215328025156438, 0.00421611108377883, \n",
        "                    -0.0494739895805006, 0.353583101989144, -1.48030401306424, 3.18570910569714, -2.24861696339824, \n",
        "                    0.369739303965597, -29.5953371048625]\n",
        "    kappa = np.exp(np.polyval(poly_val_fit, np.log(t_k)))\n",
        "    return nh*tstar*kappa / (t_rad * A_10)\n",
        "\n",
        "\n",
        "def spin_temperature(redshift, tk, j_alpha, nh):\n",
        "    \"\"\" Calculate the spin temperature \"\"\"\n",
        "    t_gamma = temperature_background_radiation(redshift)\n",
        "    xalpha = calc_xalpha(t_gamma, j_alpha)\n",
        "    xc = calc_xc(t_gamma, tk, nh)\n",
        "    return (1 + xalpha + xc) / (1/t_gamma + (xalpha + xc)/tk)"
      ]
    },
    {
      "cell_type": "markdown",
      "metadata": {
        "id": "16L7m6XGxtLj"
      },
      "source": [
        "Next let us find the 21-cm optical depth \n",
        "\n",
        "TODO formula"
      ]
    },
    {
      "cell_type": "code",
      "execution_count": null,
      "metadata": {
        "id": "UK0KQFj2x199"
      },
      "outputs": [],
      "source": [
        "def tau_21(redshift, nH, xe, Ts):\n",
        "    \"\"\" Calculate the 21-cm optical depth \"\"\"\n",
        "    # Prefactor combination of the numeric constants \n",
        "    prefactor = 5.4554e-14    # cm^3 K s^-1\n",
        "\n",
        "    # Convert to cm^-3\n",
        "    nH = nH/(3.1e24)**3\n",
        "\n",
        "    # Calculate peculiar velocity\n",
        "    h_z =  (PLANCK_h * 100 / 3.09e19)*np.sqrt(1 - PLANCK_Omega_m + PLANCK_Omega_m*((1 + redshift)**3)) \n",
        "    peculiar_velocity = h_z / (1 + redshift)\n",
        "\n",
        "    # Combine\n",
        "    return prefactor*nH*(1 - xe)/(Ts*(1 + redshift)*peculiar_velocity)\n",
        "\n"
      ]
    },
    {
      "cell_type": "markdown",
      "metadata": {
        "id": "Tqik632NzkFQ"
      },
      "source": [
        "Which gives us all the pieces we need for 21-cm signal cubes\n",
        "\n",
        "TODO theory"
      ]
    },
    {
      "cell_type": "code",
      "execution_count": null,
      "metadata": {
        "id": "9HICxbeLz0LI"
      },
      "outputs": [],
      "source": [
        "def calculate_t21_cube(redshift, nh, tk, xe, j_alpha):\n",
        "    \"\"\" Compute a cube of the 21-cm signal in mK \"\"\"\n",
        "\n",
        "    # Get temperatures\n",
        "    t_spin = spin_temperature(redshift, tk, j_alpha, nh)\n",
        "    t_gamma = temperature_background_radiation(redshift)\n",
        "\n",
        "    # And optical depth\n",
        "    tau = tau_21(redshift, nh, xe, t_spin)\n",
        "    \n",
        "    # Giving us the 21-cm signal\n",
        "    return (t_spin - t_gamma)*(1 - np.exp(-tau))/(1 + redshift)*1000    # Converted to mK as is convention"
      ]
    },
    {
      "cell_type": "markdown",
      "metadata": {
        "id": "R82rm9PRkDxG"
      },
      "source": [
        "## 7. Putting it all together \n",
        "\n",
        "Finally we can combine everything we have done so far to make our very own simulation of the 21-cm signal!"
      ]
    },
    {
      "cell_type": "code",
      "execution_count": null,
      "metadata": {
        "id": "wxfGYgWPkW4C"
      },
      "outputs": [],
      "source": [
        "def run_simulation(f_star, eta_lyman, eta_xray, eta_ion):\n",
        "    \"\"\" Run one simulation, returns the 21-cm signal cube \"\"\"\n",
        "\n",
        "    # Set initial state as our initial conditions at z = 50\n",
        "    current_tk = initial_tk.copy()\n",
        "    current_xe = initial_xe.copy()\n",
        "\n",
        "    sim_t21_cubes = t21_cubes.copy()\n",
        "    sim_sfrd_cubes = sfrd_cubes.copy()\n",
        "\n",
        "    for step_idx, z in enumerate(ZS_SIM):\n",
        "        # Let us track our progress\n",
        "        print(f'Simulation step {step_idx}, redshift {z}')\n",
        "\n",
        "        # For zeroth step no need to simulate as have initial conditions:\n",
        "        if step_idx == 0:\n",
        "            sim_t21_cubes[:, :, :, step_idx] = calculate_t21_cube(z, physical_nh(z), current_tk, current_xe, 0)\n",
        "            continue\n",
        "\n",
        "        # 1. Get current overdensity and nh\n",
        "        overdensity = current_overdensity_field(z)\n",
        "        nh = physical_nh(z)\n",
        "\n",
        "        # 2. Star formation\n",
        "        sim_sfrd_cubes[:, :, :, step_idx] = star_formation_rate_density(z, f_star)\n",
        "\n",
        "        # 3. Radiation fields\n",
        "        j_alpha = calculate_lyman_alpha_radiation_field(ZS_SIM[:step_idx+1], sim_sfrd_cubes[:, :, :, :step_idx+1],\n",
        "                                                        eta_lyman)\n",
        "        \n",
        "        xray_heating_field = calculate_xray_radiation_field(sim_sfrd_cubes[:, :, :, step_idx], eta_xray)\n",
        "\n",
        "        ionization_rate = calculate_ionization_rate(sim_sfrd_cubes[:, :, :, step_idx], eta_ion, nh, z)\n",
        "\n",
        "        # 4. Integrate TK\n",
        "        heating_rate_dz = igm_heating_rate(current_tk, xray_heating_field, current_xe, z, nh)\n",
        "        current_tk += heating_rate_dz*(z - ZS_SIM[step_idx - 1])\n",
        "\n",
        "        # 5. Integrate xe\n",
        "        ionization_rate_dxe = igm_ionization_rate(current_tk, ionization_rate, current_xe, z, nh)\n",
        "        current_xe += ionization_rate_dxe*(z - ZS_SIM[step_idx - 1])\n",
        "        current_xe = np.maximum(0, np.minimum(1, current_xe))  # Correct any aphysical values\n",
        "\n",
        "        # 6. Calculate T21\n",
        "        sim_t21_cubes[:, :, :, step_idx] = calculate_t21_cube(z, nh, current_tk, current_xe, j_alpha)\n",
        "\n",
        "        # 7. To help us keep track let us print some quantities of interest\n",
        "        print(f'\\t Mean TK = {np.mean(current_tk)} K')\n",
        "        print(f'\\t Mean xe = {np.mean(current_xe)}')\n",
        "        print(f'\\t Mean T21 = {np.mean(sim_t21_cubes[:, :, :, step_idx])} mK')\n",
        "        print(f'\\n')\n",
        "    \n",
        "    return sim_t21_cubes\n"
      ]
    },
    {
      "cell_type": "code",
      "execution_count": null,
      "metadata": {
        "id": "cdOGu8m-n1tD",
        "colab": {
          "base_uri": "https://localhost:8080/"
        },
        "outputId": "3048ef83-fa7e-42d8-a502-bfe4be17d991"
      },
      "outputs": [
        {
          "output_type": "stream",
          "name": "stdout",
          "text": [
            "Simulation step 0, redshift 50\n",
            "Simulation step 1, redshift 49\n",
            "\t Mean TK = 69.12175586313646 K\n",
            "\t Mean xe = 0.0005087241929962202\n",
            "\t Mean T21 = -16.186490891009377 mK\n",
            "\n",
            "\n",
            "Simulation step 2, redshift 48\n",
            "\t Mean TK = 66.3027633551946 K\n",
            "\t Mean xe = 0.0005201864700403346\n",
            "\t Mean T21 = -17.150520361668416 mK\n",
            "\n",
            "\n",
            "Simulation step 3, redshift 47\n",
            "\t Mean TK = 63.54316347095916 K\n",
            "\t Mean xe = 0.0005352108225860474\n",
            "\t Mean T21 = -17.126180809193126 mK\n",
            "\n",
            "\n",
            "Simulation step 4, redshift 46\n",
            "\t Mean TK = 60.84313649460465 K\n",
            "\t Mean xe = 0.0005548579366405175\n",
            "\t Mean T21 = -17.20867609965201 mK\n",
            "\n",
            "\n",
            "Simulation step 5, redshift 45\n",
            "\t Mean TK = 58.202912477770845 K\n",
            "\t Mean xe = 0.000580490637024698\n",
            "\t Mean T21 = -17.379546679952927 mK\n",
            "\n",
            "\n",
            "Simulation step 6, redshift 44\n",
            "\t Mean TK = 55.62278409846998 K\n",
            "\t Mean xe = 0.0006138553415845149\n",
            "\t Mean T21 = -17.66449946005768 mK\n",
            "\n",
            "\n",
            "Simulation step 7, redshift 43\n",
            "\t Mean TK = 53.103122505334824 K\n",
            "\t Mean xe = 0.0006571837345354476\n",
            "\t Mean T21 = -18.094602452644402 mK\n",
            "\n",
            "\n",
            "Simulation step 8, redshift 42\n",
            "\t Mean TK = 50.64439683404495 K\n",
            "\t Mean xe = 0.0007133196407126554\n",
            "\t Mean T21 = -18.70300898745573 mK\n",
            "\n",
            "\n",
            "Simulation step 9, redshift 41\n",
            "\t Mean TK = 48.24719884112036 K\n",
            "\t Mean xe = 0.0007858803608250905\n",
            "\t Mean T21 = -19.523805064032977 mK\n",
            "\n",
            "\n",
            "Simulation step 10, redshift 40\n",
            "\t Mean TK = 45.91227265199155 K\n",
            "\t Mean xe = 0.0008794551851295714\n",
            "\t Mean T21 = -20.590611767605242 mK\n",
            "\n",
            "\n",
            "Simulation step 11, redshift 39\n",
            "\t Mean TK = 43.640550923086344 K\n",
            "\t Mean xe = 0.000999850876077353\n",
            "\t Mean T21 = -21.934389512036766 mK\n",
            "\n",
            "\n",
            "Simulation step 12, redshift 38\n",
            "\t Mean TK = 41.433198821348995 K\n",
            "\t Mean xe = 0.001154395442125697\n",
            "\t Mean T21 = -23.58113377253254 mK\n",
            "\n",
            "\n",
            "Simulation step 13, redshift 37\n",
            "\t Mean TK = 39.29166904148112 K\n",
            "\t Mean xe = 0.001352322029050219\n",
            "\t Mean T21 = -25.54975549290936 mK\n",
            "\n",
            "\n",
            "Simulation step 14, redshift 36\n",
            "\t Mean TK = 37.217768570224045 K\n",
            "\t Mean xe = 0.0016052442271776092\n",
            "\t Mean T21 = -27.85011310822902 mK\n",
            "\n",
            "\n",
            "Simulation step 15, redshift 35\n",
            "\t Mean TK = 35.21373643965293 K\n",
            "\t Mean xe = 0.0019277284860067484\n",
            "\t Mean T21 = -30.480310227755545 mK\n",
            "\n",
            "\n",
            "Simulation step 16, redshift 34\n",
            "\t Mean TK = 33.28233633602317 K\n",
            "\t Mean xe = 0.0023379948288912563\n",
            "\t Mean T21 = -33.4241595391974 mK\n",
            "\n",
            "\n",
            "Simulation step 17, redshift 33\n",
            "\t Mean TK = 31.42697382543627 K\n",
            "\t Mean xe = 0.0028588113938688136\n",
            "\t Mean T21 = -36.6503169071858 mK\n",
            "\n",
            "\n",
            "Simulation step 18, redshift 32\n",
            "\t Mean TK = 29.651828625733685 K\n",
            "\t Mean xe = 0.0035185571989201562\n",
            "\t Mean T21 = -40.11052722623745 mK\n",
            "\n",
            "\n",
            "Simulation step 19, redshift 31\n",
            "\t Mean TK = 27.962011107306182 K\n",
            "\t Mean xe = 0.004352526002316291\n",
            "\t Mean T21 = -43.73738431294524 mK\n",
            "\n",
            "\n",
            "Simulation step 20, redshift 30\n",
            "\t Mean TK = 26.363755260061687 K\n",
            "\t Mean xe = 0.005404571080240926\n",
            "\t Mean T21 = -47.4434493458304 mK\n",
            "\n",
            "\n",
            "Simulation step 21, redshift 29\n",
            "\t Mean TK = 24.864649479611522 K\n",
            "\t Mean xe = 0.006729151224573794\n",
            "\t Mean T21 = -51.11944076409572 mK\n",
            "\n",
            "\n",
            "Simulation step 22, redshift 28\n",
            "\t Mean TK = 23.47387767572083 K\n",
            "\t Mean xe = 0.008393706700193786\n",
            "\t Mean T21 = -54.629441483506454 mK\n",
            "\n",
            "\n",
            "Simulation step 23, redshift 27\n",
            "\t Mean TK = 22.202516214436294 K\n",
            "\t Mean xe = 0.010481681877952604\n",
            "\t Mean T21 = -57.808849054471665 mK\n",
            "\n",
            "\n",
            "Simulation step 24, redshift 26\n",
            "\t Mean TK = 21.063869405622164 K\n",
            "\t Mean xe = 0.013096237733606861\n",
            "\t Mean T21 = -60.46329854153466 mK\n",
            "\n",
            "\n",
            "Simulation step 25, redshift 25\n",
            "\t Mean TK = 20.07382837389814 K\n",
            "\t Mean xe = 0.01636474500840355\n",
            "\t Mean T21 = -62.36971210075049 mK\n",
            "\n",
            "\n",
            "Simulation step 26, redshift 24\n",
            "\t Mean TK = 19.251311835955125 K\n",
            "\t Mean xe = 0.020444594784944405\n",
            "\t Mean T21 = -63.28607831203735 mK\n",
            "\n",
            "\n",
            "Simulation step 27, redshift 23\n",
            "\t Mean TK = 18.618726587175864 K\n",
            "\t Mean xe = 0.025530350887325283\n",
            "\t Mean T21 = -62.96977756156597 mK\n",
            "\n",
            "\n",
            "Simulation step 28, redshift 22\n",
            "\t Mean TK = 18.20232057484148 K\n",
            "\t Mean xe = 0.0318620351857136\n",
            "\t Mean T21 = -61.20880248690012 mK\n",
            "\n",
            "\n",
            "Simulation step 29, redshift 21\n",
            "\t Mean TK = 18.032666779662847 K\n",
            "\t Mean xe = 0.03973636807916394\n",
            "\t Mean T21 = -57.871268948672224 mK\n",
            "\n",
            "\n",
            "Simulation step 30, redshift 20\n",
            "\t Mean TK = 18.144909270984144 K\n",
            "\t Mean xe = 0.04951998303889695\n",
            "\t Mean T21 = -52.95615870516859 mK\n",
            "\n",
            "\n",
            "Simulation step 31, redshift 19\n",
            "\t Mean TK = 18.579112664495092 K\n",
            "\t Mean xe = 0.061667581019524145\n",
            "\t Mean T21 = -46.63565342087201 mK\n",
            "\n",
            "\n",
            "Simulation step 32, redshift 18\n",
            "\t Mean TK = 19.37986548607218 K\n",
            "\t Mean xe = 0.07674233338522263\n",
            "\t Mean T21 = -39.2618194270317 mK\n",
            "\n",
            "\n",
            "Simulation step 33, redshift 17\n",
            "\t Mean TK = 20.595677008455088 K\n",
            "\t Mean xe = 0.0954434717943595\n",
            "\t Mean T21 = -31.331118882956382 mK\n",
            "\n",
            "\n",
            "Simulation step 34, redshift 16\n",
            "\t Mean TK = 22.27734677191782 K\n",
            "\t Mean xe = 0.11863990919609026\n",
            "\t Mean T21 = -23.404888028747276 mK\n",
            "\n",
            "\n",
            "Simulation step 35, redshift 15\n",
            "\t Mean TK = 24.475643369631776 K\n",
            "\t Mean xe = 0.14741586459019315\n",
            "\t Mean T21 = -16.013726015978882 mK\n",
            "\n",
            "\n",
            "Simulation step 36, redshift 14\n",
            "\t Mean TK = 27.23614088098991 K\n",
            "\t Mean xe = 0.183122123675395\n",
            "\t Mean T21 = -9.57855002386473 mK\n",
            "\n",
            "\n",
            "Simulation step 37, redshift 13\n",
            "\t Mean TK = 30.592732327766292 K\n",
            "\t Mean xe = 0.2274473650177445\n",
            "\t Mean T21 = -4.37029531443517 mK\n",
            "\n",
            "\n",
            "Simulation step 38, redshift 12\n",
            "\t Mean TK = 34.55735895054186 K\n",
            "\t Mean xe = 0.2825044977654079\n",
            "\t Mean T21 = -0.5093333193700881 mK\n",
            "\n",
            "\n",
            "Simulation step 39, redshift 11\n",
            "\t Mean TK = 39.106136157864334 K\n",
            "\t Mean xe = 0.35094141412564134\n",
            "\t Mean T21 = 2.0080272538030886 mK\n",
            "\n",
            "\n",
            "Simulation step 40, redshift 10\n",
            "\t Mean TK = 44.161016036729336 K\n",
            "\t Mean xe = 0.4360811961735537\n",
            "\t Mean T21 = 3.2746874630234135 mK\n",
            "\n",
            "\n",
            "Simulation step 41, redshift 9\n",
            "\t Mean TK = 49.5699347761933 K\n",
            "\t Mean xe = 0.5421236085734749\n",
            "\t Mean T21 = 3.4444725325466847 mK\n",
            "\n",
            "\n",
            "Simulation step 42, redshift 8\n",
            "\t Mean TK = 55.08013603794421 K\n",
            "\t Mean xe = 0.6743928562330981\n",
            "\t Mean T21 = 2.7166988904806133 mK\n",
            "\n",
            "\n",
            "Simulation step 43, redshift 7\n",
            "\t Mean TK = 60.3173541335698 K\n",
            "\t Mean xe = 0.8397518698707234\n",
            "\t Mean T21 = 1.3387102245300753 mK\n",
            "\n",
            "\n",
            "Simulation step 44, redshift 6\n",
            "\t Mean TK = 64.76322972492741 K\n",
            "\t Mean xe = 0.9979415025041365\n",
            "\t Mean T21 = 0.014371555832233091 mK\n",
            "\n",
            "\n"
          ]
        }
      ],
      "source": [
        "# Define our parameters and run our simulation!\n",
        "f_star    = 0.05                    # Star formation efficiency of 1%\n",
        "eta_lyman = 30000*2e30/1.67e-27     # Number of Lyman band photons per unit stellar mass (From Barkana and Loeb 2005)\n",
        "eta_xray  = 5e-3*9.5e40             # Fiducial value from Fragos 2013 + efficiency factor [J Msol^-1]\n",
        "eta_ion   = 100*2e30/1.67e-27       # Number of ionizing photons per solar mass of star formation [Msol^-1] \n",
        "our_t21_cubes = run_simulation(f_star, eta_lyman, eta_xray, eta_ion)"
      ]
    },
    {
      "cell_type": "markdown",
      "metadata": {
        "id": "xabHV7Z41VuU"
      },
      "source": [
        "## 8. Visualizing Our Results\n",
        "\n",
        "Obviously a series of huge cubes of temperatures is not very digestable as a results. It is also in general a prohibitively large amount of data to perform inference on (see Dominic's talk). Hence we normally compress our results into summary statistics. You met a couple of these in the theory talk before this session the global signal and the power spectrum. \n",
        "\n",
        "We can calculate these from our simulation cubes. Starting with the global signal "
      ]
    },
    {
      "cell_type": "code",
      "execution_count": null,
      "metadata": {
        "id": "0a64T_TR5_0y",
        "colab": {
          "base_uri": "https://localhost:8080/",
          "height": 390
        },
        "outputId": "f5814f3f-9320-494d-ef42-893f8742621c"
      },
      "outputs": [
        {
          "output_type": "display_data",
          "data": {
            "text/plain": [
              "<Figure size 432x432 with 1 Axes>"
            ],
            "image/png": "[encoded data removed]"
          },
          "metadata": {
            "needs_background": "light"
          }
        }
      ],
      "source": [
        "def plot_global_signal(t21_cubes):\n",
        "    \"\"\"  Ploting function for global signal \"\"\"\n",
        "    \n",
        "    # Calculate the 21-cm global signal\n",
        "    global_signal = [np.mean(t21_cubes[:,:,:,idx]) for idx in range(t21_cubes.shape[-1])]\n",
        "\n",
        "    # Plotting \n",
        "    fig, ax = plt.subplots(figsize=(6,6))\n",
        "    ax.plot(ZS_SIM, global_signal)\n",
        "    ax.set_ylabel(r\"Global 21-cm Signal $T_{\\rm 21}$ [mK]\")\n",
        "    ax.set_xlabel(r\"Redshift $z$\")\n",
        "    ax.set_xlim(xmax=45)  # To avoid the initial numerical errors at z = 50\n",
        "    plt.show()\n",
        "    plt.close(fig)\n",
        "\n",
        "# Plot the global signal\n",
        "plot_global_signal(our_t21_cubes)"
      ]
    },
    {
      "cell_type": "markdown",
      "source": [
        "We can also plot the spherically averaged power spectrum at a fixed wavevector e.g. $k = 0.1$ cMpc$^{-1}$"
      ],
      "metadata": {
        "id": "MKCxawQ8qrOJ"
      }
    },
    {
      "cell_type": "code",
      "source": [
        "def spherically_averaged_power_spectrum(cube, k):\n",
        "    \"\"\" Calculate spherically averaged power spectrum at a given value \"\"\"\n",
        "    # Full power spectrum\n",
        "    full_power_spectrum = np.abs(scipy.fft.fftn(cube))**2 * (L_PIX)**6/(L_PIX*N_PIX)**3\n",
        "\n",
        "    # Correponding ks\n",
        "    ks_1d = [2*np.pi*scipy.fftpack.fftfreq(n_dim, d=L_PIX) for n_dim in full_power_spectrum.shape]\n",
        "    kxs, kys, kzs = np.meshgrid(*ks_1d)\n",
        "    ks = np.sqrt(kxs**2 + kys**2 + kzs**2)\n",
        "\n",
        "    # Filter to required k band and average\n",
        "    filter = np.bitwise_and(ks <= k*1.05, ks >= k*0.95)\n",
        "    averaged_power_spectrum = np.sum(full_power_spectrum[filter]) / np.sum(filter)\n",
        "    return averaged_power_spectrum\n",
        "\n",
        "\n",
        "def plot_power_spectrum(t21_cubes, k = 0.1):\n",
        "    \"\"\"  Ploting function for spherically averaged power spectrum \"\"\"\n",
        "    \n",
        "    # Calculate the 21-cm power spectrum\n",
        "    power_spectrum = [spherically_averaged_power_spectrum(t21_cubes[:, :,:, idx], k) \n",
        "                      for idx in range(t21_cubes.shape[-1])]\n",
        "\n",
        "    # Plotting \n",
        "    fig, ax = plt.subplots(figsize=(6,6))\n",
        "    ax.plot(ZS_SIM, power_spectrum)\n",
        "    ax.set_ylabel(r\"21-cm Power Spectrum $P_k(k = 0.1{\\rm cMpc}^{-1})$ [mK^2 cMpc^3]\")\n",
        "    ax.set_xlabel(r\"Redshift $z$\")\n",
        "    ax.set_yscale(\"log\")\n",
        "    ax.set_xlim(xmax=45)  # To avoid the initial numerical errors at z = 50\n",
        "    ax.set_ylim(ymin=1e2)\n",
        "    plt.show()\n",
        "    plt.close(fig)\n",
        "\n",
        "\n",
        "# Plot the power spectrum\n",
        "plot_power_spectrum(our_t21_cubes)"
      ],
      "metadata": {
        "colab": {
          "base_uri": "https://localhost:8080/",
          "height": 390
        },
        "id": "ld60g8u8qyUh",
        "outputId": "5ac25285-5b24-4f99-f19e-efdd7ff7fda5"
      },
      "execution_count": null,
      "outputs": [
        {
          "output_type": "display_data",
          "data": {
            "text/plain": [
              "<Figure size 432x432 with 1 Axes>"
            ],
            "image/png": "[encoded data removed]"
          },
          "metadata": {
            "needs_background": "light"
          }
        }
      ]
    },
    {
      "cell_type": "markdown",
      "source": [
        "Here we only see the cosmic dawn peak, because we have not properly modelled the spatial distribution of reionization and X-ray heating, if we did we could see up to three peaks in the power spectrum."
      ],
      "metadata": {
        "id": "vRLxRH0Ytwa_"
      }
    },
    {
      "cell_type": "markdown",
      "source": [
        "Finally we can also look at slice of our simulated 21-cm cubes as well to see what tomographic 21-cm signal maps may look like"
      ],
      "metadata": {
        "id": "jP91MP9it_O3"
      }
    },
    {
      "cell_type": "code",
      "source": [
        "def plot_cubes_slice(t21_cube):\n",
        "    \"\"\"  Ploting function for 21-cm signal slices \"\"\"\n",
        "    \n",
        "    t21_cube_slice = t21_cube[round(N_PIX/3), :, :]  # Arbitary choice of slice\n",
        "\n",
        "    # Plotting \n",
        "    fig, ax = plt.subplots(figsize=(10, 10))\n",
        "    image = ax.imshow(t21_cube_slice, cmap='bwr', \n",
        "                      vmin=-np.max(np.abs(t21_cube_slice)), vmax=np.max(np.abs(t21_cube_slice)),\n",
        "                      extent=[-N_PIX*L_PIX/2, N_PIX*L_PIX/2, -N_PIX*L_PIX/2, N_PIX*L_PIX/2])\n",
        "    cbar = fig.colorbar(image, ax=ax, label=r'21-cm Signal $T_{\\rm 21}$ [mK]')\n",
        "    plt.show()\n",
        "    plt.close(fig)\n",
        "\n",
        "# Plot a slice at redshift 12\n",
        "plot_cubes_slice(np.squeeze(our_t21_cubes[:, :, :, ZS_SIM==12]))\n",
        "\n",
        "# Plot a slice at redshift 15\n",
        "plot_cubes_slice(np.squeeze(our_t21_cubes[:, :, :, ZS_SIM==15]))\n",
        "\n",
        "# Plot a slice at redshift 20\n",
        "plot_cubes_slice(np.squeeze(our_t21_cubes[:, :, :, ZS_SIM==20]))"
      ],
      "metadata": {
        "colab": {
          "base_uri": "https://localhost:8080/",
          "height": 1000
        },
        "id": "1s3hWBoxuVJ_",
        "outputId": "3384bdc9-c215-4f27-bcf5-782328f3da5f"
      },
      "execution_count": null,
      "outputs": [
        {
          "output_type": "display_data",
          "data": {
            "text/plain": [
              "<Figure size 720x720 with 2 Axes>"
            ],
            "image/png": "[encoded data removed]"
          },
          "metadata": {
            "needs_background": "light"
          }
        },
        {
          "output_type": "display_data",
          "data": {
            "text/plain": [
              "<Figure size 720x720 with 2 Axes>"
            ],
            "image/png": "[encoded data removed]"
          },
          "metadata": {
            "needs_background": "light"
          }
        },
        {
          "output_type": "display_data",
          "data": {
            "text/plain": [
              "<Figure size 720x720 with 2 Axes>"
            ],
            "image/png": "[encoded data removed]"
          },
          "metadata": {
            "needs_background": "light"
          }
        }
      ]
    },
    {
      "cell_type": "markdown",
      "source": [
        "## 9. Exercises\n",
        "\n",
        "Above you have seen how we built a simplified semi-numerical simulation. In this penultimate section you'll be given an opportunity to play with the simulation, trying different inputs, and time permitting have a go at extending it to add a new feature."
      ],
      "metadata": {
        "id": "5nqa_jyqvDVZ"
      }
    },
    {
      "cell_type": "markdown",
      "source": [
        "### 9.1 Parameter Dependance\n",
        "\n",
        "Our simulation code takes four parameters\n",
        "1. $f_{\\rm star}$ the star formation efficiency of large dark matter halos\n",
        "2. $\\eta_{\\rm Ly}$ the number of Lyman band photons emitted per unit stellar mass\n",
        "3. $\\eta_{\\rm X-ray}$ the heat deposited per unit stellar mass \n",
        "4. $\\eta_{\\rm ion}$ the number of ionizing photons emitted per stellar mass\n",
        "\n",
        "For which above we used fiducial values for these of\n",
        "1. $f_{\\rm star} = 0.05$\n",
        "2. $\\eta_{\\rm Ly} = 3.59 \\times 10^{61}$ photons M$_{\\odot}^{-1}$\n",
        "3. $\\eta_{\\rm X-ray} = 4.75 \\times 10^{38}$ J M$_{\\odot}^{-1}$\n",
        "4. $\\eta_{\\rm ion} = 1.20 \\times 10^{59}$ photons M$_{\\odot}^{-1}$\n",
        "\n",
        "But in reality the early universe remains fairly uncertain, and these parameters could still potentially be orders of magnitude different from the values given above. \n",
        "\n",
        "So, using our 21-cm signal simulation code explore how the 21-cm signal varies with each of the parameters. You will probably find it easiest to see the impacts by only varying one parameter at a time, and plotting the results alongside on the same axis as our initial simulation results. \n",
        "\n",
        "A space is provided for your investigation below (you can add more code and text blocks as you go too if you want to split up your investigation and make notes as you go)"
      ],
      "metadata": {
        "id": "t5oorsKXv0LE"
      }
    },
    {
      "cell_type": "code",
      "source": [
        "# Hint:\n",
        "# The syntax for running one of our simulations is\n",
        "# output_t21_cubes = run_simulation(f_star, eta_lyman, eta_xray, eta_ion)\n",
        "#\n",
        "# You might also find the plot_global_signal function or at least its contents useful. \n",
        "\n"
      ],
      "metadata": {
        "id": "10jigmbiv5zG"
      },
      "execution_count": null,
      "outputs": []
    },
    {
      "cell_type": "markdown",
      "source": [
        "### 9.2 Adding New Features\n",
        "\n",
        "Now you have a feel for the simulations, and time permitting, why not have a go at adding a new feature to the code. Our semi-numerical simulation code is very simplified and so there is plenty of important physics that we do not include, such as baryon dark matter relative velocities, the LW feedback, the transition from Pop II to Pop III stars, or a proper modelling of ionization/X-ray heating propogation around sources. \n",
        "\n",
        "You are of course free to try and modify/added to any parts of the simulation you might want to. If you are looking for a suggestion of a upgrade that can be done in a shortish amount of time why not try to figure out how to extend `igm_heating_rate` to include the cooling due to the changing number of particles in the IGM as neutral hyrdrogen (1 independant free particle) is ionized into a proton and an electron (2 independant free particles). In terms of the maths that amounts to adding a new term to \n",
        "$$\n",
        "\\frac{dT_{\\rm K}}{dz} = \\frac{2 T_{\\rm K}}{1 + z} + \\frac{2}{3 k_{\\rm B}(1 + x_{\\rm e})}\\frac{dt}{dz} \\hat{\\epsilon}_X,\n",
        "$$\n",
        "so that it is now\n",
        "$$\n",
        "\\frac{dT_{\\rm K}}{dz} = \\frac{2 T_{\\rm K}}{1 + z} + \\frac{2}{3 k_{\\rm B}(1 + x_{\\rm e})}\\frac{dt}{dz} \\hat{\\epsilon}_X - \\frac{T_{\\rm K}}{1 + x_{\\rm e}}\\frac{dx_e}{dz}.\n",
        "$$\n"
      ],
      "metadata": {
        "id": "7N_fwg2xzZEg"
      }
    },
    {
      "cell_type": "code",
      "source": [
        "# Hint: \n",
        "# If you are going to try and impliment the suggestion you'll want to redefine \n",
        "# igm_heating_rate here, and use igm_ionization_rate to get the ionization rate\n"
      ],
      "metadata": {
        "id": "DMBfrkHs1Jfo"
      },
      "execution_count": null,
      "outputs": []
    },
    {
      "cell_type": "markdown",
      "source": [
        "## 10. Concluding Remarks\n",
        "\n",
        "In this workbook we have developed a simple semi-numerical simulation of the 21-cm signal, allowing us to produce predictions for the global 21-cm signal, power spectrum, and tomographic maps. If time allowed you have also got the oppurtunity to explore how the 21-cm signal varied with our four different parameters, and have a go at developing the code yourself adding new features. \n",
        "\n",
        "Hopefully you will afree that 21-cm semi numerical simulations are a powerful tool for producing predicitons of the 21-cm signal in reasonable (minutes to hours) time frame, and exploring how the signal is impacted by various pieces of physics. However, even for this simplified simulation we have runtimes for a single simulation of a few minutes, with full sized state-of-the-art simulations that inlcude more physics taking hours. This is prohibitivley long for performing the large number of simulations that are needed to constrain the uncertain properties of the early universe using actual data. \n",
        "\n",
        "So in the next session with Harry you will learn about neural networks, machine learning, and emulators, and see how these can be applied to produce excellent approximations to these full simulations that run in mear milliseconds. \n",
        "\n"
      ],
      "metadata": {
        "id": "TyY8XlTlvHEF"
      }
    },
    {
      "cell_type": "markdown",
      "source": [
        "## 11. Acknowledgments\n",
        "\n",
        "This workbook was written by Thomas Gessey-Jones (TODO link) for the DARA 2023 REACH workshop on radio cosmology as an educational tool for introducing semi-numerical 21-cm signal simulations. \n",
        "\n",
        "I would like to thank the organizers for given me the oppurtunity to present at this workshop, and finally giving me the motivation to make this workbook, something I have wanted to do for some time. \n",
        "\n",
        "The strucutre of this code is inspired by the private 21-cm signal simulation code developed over many years by Anastasia Fialkov, Rennan Barkana, Itamar Reis and others who have my sincerest thanks for giving me access to said code and teaching me how to use it and extend it. Several of the equations that are used have been modified from the original 21-cm FAST paper by Mesinger and others, which remains an excellent more technical introduction to 21-cm signal simulations. \n",
        "\n",
        "Finally I would like to thank Christian Kirkham for his testing of this workbook and his invaluable feedback. \n",
        "\n",
        "If you have any feedback on the workbook or would like to contribute to it feel free to contact me at tg400@cam.ac.uk or open a pull request on the Github repository where this workbook is hosted. "
      ],
      "metadata": {
        "id": "9fkj2Kss4oIZ"
      }
    },
    {
      "cell_type": "markdown",
      "source": [
        "# TODO List\n",
        "3. Check all formula\n",
        "4. Cite text\n",
        "5. Review text\n",
        "6. Code review \n",
        "7. Spellcheck\n",
        "8. Figure text\n",
        "9. Intro to Google Colab\n",
        "10. ctr+F TODO\n",
        "11. Delete this "
      ],
      "metadata": {
        "id": "Rn8dXAMJvKVi"
      }
    }
  ],
  "metadata": {
    "colab": {
      "provenance": [],
      "authorship_tag": "ABX9TyNw53ivRE/Ac/WXjoceFmAe",
      "include_colab_link": true
    },
    "kernelspec": {
      "display_name": "Python 3",
      "name": "python3"
    },
    "language_info": {
      "name": "python"
    }
  },
  "nbformat": 4,
  "nbformat_minor": 0
}